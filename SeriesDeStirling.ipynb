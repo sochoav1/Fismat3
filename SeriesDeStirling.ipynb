{
 "cells": [
  {
   "cell_type": "code",
   "execution_count": 1,
   "metadata": {},
   "outputs": [
    {
     "name": "stdout",
     "output_type": "stream",
     "text": [
      "Aproximación de 5! usando la serie de Stirling: 118.0191679575901\n",
      "Valor exacto de 5!: 120\n"
     ]
    }
   ],
   "source": [
    "import math\n",
    "\n",
    "def stirling_approximation(z):\n",
    "    return math.sqrt(2 * math.pi * z) * (z / math.e) ** z\n",
    "\n",
    "z = 5\n",
    "factorial_approx = stirling_approximation(z)\n",
    "print(f\"Aproximación de {z}! usando la serie de Stirling: {factorial_approx}\")\n",
    "print(f\"Valor exacto de {z}!: {math.factorial(z)}\")\n"
   ]
  },
  {
   "cell_type": "code",
   "execution_count": 3,
   "metadata": {},
   "outputs": [
    {
     "name": "stdout",
     "output_type": "stream",
     "text": [
      "Aproximación de 5! usando la serie de Stirling con números de Bernoulli: 119.983560566832\n",
      "Valor exacto de 5!: 120\n"
     ]
    }
   ],
   "source": [
    "from sympy import bernoulli\n",
    "import math\n",
    "\n",
    "def stirling_approximation_with_bernoulli(n, terms=5):\n",
    "    # Calcula la parte principal de la aproximación de Stirling\n",
    "    approximation = math.sqrt(2 * math.pi * n) * (n / math.e) ** n\n",
    "    \n",
    "    # Inicializa la suma de la serie\n",
    "    series_sum = 1\n",
    "    \n",
    "    # Suma los términos de la serie usando los números de Bernoulli\n",
    "    for k in range(1, terms + 1):\n",
    "        B_k = bernoulli(2 * k) # Calcula el k-ésimo número de Bernoulli\n",
    "        series_sum += B_k / (2 * k * (2 * k - 1) * (n ** (2 * k - 1)))\n",
    "    \n",
    "    # Multiplica la aproximación por la suma de la serie\n",
    "    return approximation * series_sum\n",
    "\n",
    "n = 5\n",
    "# Calcula la aproximación de Stirling usando los números de Bernoulli para n = 5\n",
    "factorial_approx = stirling_approximation_with_bernoulli(n)\n",
    "\n",
    "print(f\"Aproximación de {n}! usando la serie de Stirling con números de Bernoulli: {factorial_approx}\")\n",
    "print(f\"Valor exacto de {n}!: {math.factorial(n)}\")\n"
   ]
  },
  {
   "cell_type": "code",
   "execution_count": 4,
   "metadata": {},
   "outputs": [
    {
     "name": "stdout",
     "output_type": "stream",
     "text": [
      "Aproximación de 5! usando la serie de Stirling: 119.97227987520418\n",
      "Valor exacto de 5!: 120\n"
     ]
    }
   ],
   "source": [
    "import math\n",
    "\n",
    "def stirling_approximation(n):\n",
    "    # Coeficientes derivados de los números de Bernoulli\n",
    "    coefficients = [1/12, -1/288, 139/51840, -571/2488320, 163879/209018880, -5246819/75246796800]\n",
    "\n",
    "    # Parte principal de la aproximación de Stirling\n",
    "    approximation = math.sqrt(2 * math.pi * n) * (n / math.e) ** n\n",
    "\n",
    "    # Suma de la serie usando los coeficientes precalculados\n",
    "    series_sum = 1\n",
    "    for i, coef in enumerate(coefficients):\n",
    "        series_sum += coef / (n ** (i + 1))\n",
    "\n",
    "    return approximation * series_sum\n",
    "\n",
    "n = 5\n",
    "factorial_approx = stirling_approximation(n)\n",
    "print(f\"Aproximación de {n}! usando la serie de Stirling: {factorial_approx}\")\n",
    "print(f\"Valor exacto de {n}!: {math.factorial(n)}\")\n"
   ]
  },
  {
   "cell_type": "code",
   "execution_count": 6,
   "metadata": {},
   "outputs": [
    {
     "name": "stdout",
     "output_type": "stream",
     "text": [
      "El resultado de 0.5! usando los polinomios de Hasting es aproximadamente 23.224644027007066\n"
     ]
    }
   ],
   "source": [
    "def hasting_polinomios(x, coeficientes):\n",
    "    if x < 0 or x >= 1:\n",
    "        raise ValueError(\"x debe estar en el rango 0 < x < 1\")\n",
    "    \n",
    "    resultado = 1\n",
    "    for b_n, n in enumerate(coeficientes, start=1):\n",
    "        resultado += b_n * (x ** n)\n",
    "    \n",
    "    return resultado\n",
    "\n",
    "coeficientes = [-0.57719, 0.98820, -0.89705, 0,91820,-0.75670]\n",
    "x = 0.5\n",
    "resultado = hasting_polinomios(x, coeficientes)\n",
    "print(f\"El resultado de {x}! usando los polinomios de Hasting es aproximadamente {resultado}\")\n",
    "\"a\"\n"
   ]
  }
 ],
 "metadata": {
  "kernelspec": {
   "display_name": "Python 3",
   "language": "python",
   "name": "python3"
  },
  "language_info": {
   "codemirror_mode": {
    "name": "ipython",
    "version": 3
   },
   "file_extension": ".py",
   "mimetype": "text/x-python",
   "name": "python",
   "nbconvert_exporter": "python",
   "pygments_lexer": "ipython3",
   "version": "3.11.4"
  },
  "orig_nbformat": 4
 },
 "nbformat": 4,
 "nbformat_minor": 2
}
