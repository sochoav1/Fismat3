{
 "cells": [
  {
   "cell_type": "code",
   "execution_count": 4,
   "metadata": {},
   "outputs": [
    {
     "data": {
      "text/plain": [
       "(Eq(R(rho), C1*besseli(0, rho*Abs(m)) + C2*bessely(0, I*rho*Abs(m))),\n",
       " Eq(Theta(phi_var), C1*sin(phi_var*Abs(m)) + C2*cos(m*phi_var)))"
      ]
     },
     "execution_count": 4,
     "metadata": {},
     "output_type": "execute_result"
    }
   ],
   "source": [
    "import sympy as sp\n",
    "\n",
    "# Definir las variables y funciones\n",
    "rho, phi_var, m = sp.symbols('rho phi_var m', real=True)\n",
    "R = sp.Function('R')(rho)\n",
    "Theta = sp.Function('Theta')(phi_var)\n",
    "\n",
    "# Ecuaciones separadas (Partiendo de la solución a mano)\n",
    "R_eq = sp.Eq(1/rho * sp.diff(rho * sp.diff(R, rho), rho) - m**2 * R, 0)\n",
    "Theta_eq = sp.Eq(sp.diff(Theta, phi_var, 2) + m**2 * Theta, 0)\n",
    "\n",
    "# Resolver las ecuaciones separadas\n",
    "R_solution = sp.dsolve(R_eq)\n",
    "Theta_solution = sp.dsolve(Theta_eq)\n",
    "\n",
    "R_solution, Theta_solution\n"
   ]
  },
  {
   "cell_type": "code",
   "execution_count": 5,
   "metadata": {},
   "outputs": [
    {
     "data": {
      "text/plain": [
       "(Eq(R(rho), C1*besseli(0, rho) + C2*bessely(0, I*rho)),\n",
       " V0*sin(phi_var)/(C1*besseli(0, a) + C2*bessely(0, I*a)))"
      ]
     },
     "execution_count": 5,
     "metadata": {},
     "output_type": "execute_result"
    }
   ],
   "source": [
    "\n",
    "\n",
    "# Definir las variables y funciones\n",
    "rho, a, V0 = sp.symbols('rho a V0', real=True, positive=True)\n",
    "R = sp.Function('R')(rho)\n",
    "\n",
    "# Ecuación para R con m=1\n",
    "R_eq = sp.Eq(1/rho * sp.diff(rho * sp.diff(R, rho), rho) - R, 0)\n",
    "\n",
    "# Resolver la ecuación\n",
    "R_solution = sp.dsolve(R_eq)\n",
    "\n",
    "# Determinar las constantes usando la relación para B\n",
    "B = V0 / R_solution.rhs.subs(rho, a)\n",
    "Theta_solution = B * sp.sin(phi_var)\n",
    "\n",
    "R_solution, Theta_solution\n"
   ]
  },
  {
   "cell_type": "code",
   "execution_count": 6,
   "metadata": {},
   "outputs": [
    {
     "data": {
      "text/latex": [
       "$\\displaystyle V_{0} \\sin{\\left(\\phi_{var} \\right)}$"
      ],
      "text/plain": [
       "V0*sin(phi_var)"
      ]
     },
     "execution_count": 6,
     "metadata": {},
     "output_type": "execute_result"
    }
   ],
   "source": [
    "\n",
    "# Definir las variables y funciones\n",
    "rho, phi_var, a, V0 = sp.symbols('rho phi_var a V0', real=True, positive=True)\n",
    "R = sp.Function('R')(rho)\n",
    "\n",
    "# Ecuación para R con m=1\n",
    "R_eq = sp.Eq(1/rho * sp.diff(rho * sp.diff(R, rho), rho) - R, 0)\n",
    "\n",
    "# Resolver la ecuación\n",
    "R_solution = sp.dsolve(R_eq)\n",
    "\n",
    "# Determinar las constantes usando la relación para B\n",
    "B = V0 / R_solution.rhs.subs(rho, a)\n",
    "Theta_solution = B * sp.sin(phi_var)\n",
    "\n",
    "# Evaluar en rho = a\n",
    "phi_at_a = R_solution.rhs.subs(rho, a) * Theta_solution\n",
    "\n",
    "phi_at_a\n",
    "#Comprobando la solución"
   ]
  }
 ],
 "metadata": {
  "kernelspec": {
   "display_name": "Python 3",
   "language": "python",
   "name": "python3"
  },
  "language_info": {
   "codemirror_mode": {
    "name": "ipython",
    "version": 3
   },
   "file_extension": ".py",
   "mimetype": "text/x-python",
   "name": "python",
   "nbconvert_exporter": "python",
   "pygments_lexer": "ipython3",
   "version": "3.11.5"
  },
  "orig_nbformat": 4
 },
 "nbformat": 4,
 "nbformat_minor": 2
}
